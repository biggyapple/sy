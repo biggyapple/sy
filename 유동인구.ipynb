{
 "cells": [
  {
   "cell_type": "code",
   "execution_count": 70,
   "id": "71e0caea",
   "metadata": {},
   "outputs": [],
   "source": [
    "import pandas as pd\n",
    "df1 = pd.read_csv('pop.csv',encoding='cp949')\n",
    "# mylist = ['과실 및 채소 소매업','관광 민예품','수산물 소매업','육류 소매업','빵 및 과자 소매업']\n",
    "\n",
    "#업종명에 해당 value만 추출\n",
    "info = df1[df1['업종명'].isin(['과실 및 채소 소매업','관광 민예품','수산물 소매업','육류 소매업','빵 및 과자 소매업'])]\n",
    "\n",
    "#시간 기준으로 정렬\n",
    "info_ = info.sort_values(by='년월')\n",
    "\n",
    "info_.drop(['데이터기준일자'],axis=1,inplace=True)\n",
    "info_['업종명'] = '소매업';\n",
    "info_\n",
    "info_.to_csv('소매.csv',encoding='cp949')\n",
    "\n",
    "# for arr in mylist:\n",
    "#     info = df1[df1['업종명']==arr]\n",
    "#     print(info)\n",
    "\n",
    "# for arr in mylist:\n",
    "#     cond = (df1.업종명 == arr)\n",
    "#     tt += (df1[cond].sort_values(by='이용자수',ascending = False))\n"
   ]
  },
  {
   "cell_type": "code",
   "execution_count": 66,
   "id": "5aae2583",
   "metadata": {},
   "outputs": [],
   "source": [
    "import pandas as pd\n",
    "df1 = pd.read_csv('pop.csv',encoding='cp949')\n",
    "# mylist = ['비알콜 음료점업','피자, 햄버거, 샌드위치 및 유사 음식점업','한식 음식점업','중식 음식점업','일식 음식점업','서양식 음식점,\n",
    "#          '기타 외국식 음식점업','비알콜 음료점업']\n",
    "\n",
    "info = df1[df1['업종명'].isin(['비알콜 음료점업','피자, 햄버거, 샌드위치 및 유사 음식점업','한식 음식점업','중식 음식점업','일식 음식점업','서양식 음식점',\n",
    "         '기타 외국식 음식점업','비알콜 음료점업'])]\n",
    "\n",
    "info_ = info.sort_values(by='년월')\n",
    "info_['업종명'] = '식음료';\n",
    "info_.drop(['데이터기준일자'],axis=1,inplace=True)\n",
    "info_\n",
    "info_.to_csv('식음료.csv',encoding='cp949')"
   ]
  },
  {
   "cell_type": "code",
   "execution_count": 67,
   "id": "4058d960",
   "metadata": {},
   "outputs": [],
   "source": [
    "\n",
    "import pandas as pd\n",
    "df1 = pd.read_csv('pop.csv',encoding='cp949')\n",
    "\n",
    "info = df1[df1['업종명'].isin(['휴양콘도 운영업','여관업','호텔업'])]\n",
    "\n",
    "info_ = info.sort_values(by='년월')\n",
    "info_['업종명'] = '숙박';\n",
    "info_.drop(['데이터기준일자'],axis=1,inplace=True)\n",
    "info_.to_csv('숙박.csv',encoding='cp949')"
   ]
  },
  {
   "cell_type": "code",
   "execution_count": 73,
   "id": "4a39e654",
   "metadata": {},
   "outputs": [],
   "source": [
    "\n",
    "import pandas as pd\n",
    "df1 = pd.read_csv('pop.csv',encoding='cp949')\n",
    "\n",
    "info = df1[df1['업종명'].isin(['스포츠 및 레크레이션 용품 임대업','기타 수상오락 서비스업'])]\n",
    "\n",
    "info_ = info.sort_values(by='년월')\n",
    "info_['업종명'] = '문화레저';\n",
    "info_.drop(['데이터기준일자'],axis=1,inplace=True)\n",
    "info_.to_csv('문화레저.csv',encoding='cp949')"
   ]
  }
 ],
 "metadata": {
  "kernelspec": {
   "display_name": "Python 3",
   "language": "python",
   "name": "python3"
  },
  "language_info": {
   "codemirror_mode": {
    "name": "ipython",
    "version": 3
   },
   "file_extension": ".py",
   "mimetype": "text/x-python",
   "name": "python",
   "nbconvert_exporter": "python",
   "pygments_lexer": "ipython3",
   "version": "3.8.8"
  }
 },
 "nbformat": 4,
 "nbformat_minor": 5
}
